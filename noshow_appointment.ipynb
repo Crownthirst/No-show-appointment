{
 "cells": [
  {
   "cell_type": "markdown",
   "metadata": {},
   "source": [
    "# Project: Investigate a Dataset (No Show Appointment)\n",
    "\n",
    "## Table of Contents\n",
    "<ul>\n",
    "<li><a href=\"#intro\">Introduction</a></li>\n",
    "<li><a href=\"#wrangling\">Data Wrangling</a></li>\n",
    "<li><a href=\"#eda\">Exploratory Data Analysis</a></li>\n",
    "<li><a href=\"#conclusions\">Conclusions</a></li>\n",
    "</ul>"
   ]
  },
  {
   "cell_type": "markdown",
   "metadata": {},
   "source": [
    "<a id='intro'></a>\n",
    "## Introduction\n",
    "\n",
    " This dataset collects information from over 100,000 medical appointments in Brazil and is focused on the question of whether or not patients show up for their appointment. A number of characteristics about the patient are included in each row.\n",
    " 14 variables (Characteristics) associated with each observation are listed as follows:\n",
    "- Patiend ID- Patients's unique identification number\n",
    "- Appointment ID- Each appointment generates a unique ID\n",
    "- Gender- Male or Female\n",
    "- ScheduledDay- The day someone called to register the appointment(This is before the appointment)\n",
    "- AppointmentDay- The day of the actual appointment where the patient is to meet with the doctor\n",
    "- Age- How old the patient is\n",
    "- Neighborhood- The location of the hospital\n",
    "- Scholarship- Indicates whether or not the patient is enrolled in Brasilian welfare program [Bolsa Familia](https://en.wikipedia.org/wiki/Bolsa_Fam%C3%ADlia)\n",
    "- Hypertension- Whether or not the patient is hypertensive\n",
    "- Diabetes- Whether or not the patient is diabetic\n",
    "- Alcoholism- If the patient is an alcoholic\n",
    "- Handicap- Whether or not the patient has any form of disability\n",
    "- Sms Received- 1 or more messages sent to the patient probably as a reminder\n",
    "- No show- Whether or not the patient showed up for their appointment as scheduled.\n",
    "\n",
    "#### Patterns/Questions this analysis will be looking to uncover\n",
    "> 1. Which Gender is most likely going to show up for their appointment and which is not.\n",
    "> 2. Is age a determining factor to showing up for appointments as planned\n",
    "> 3. Is the gap in time between scheduled day/time and appointment day/time a determining factor?\n",
    "> 4. Are scholarship beneficiaries likely to default compared to Non beneficiaries\n",
    "> 5. Are patients who receive reminders showing up than patients who do not?\n",
    "\n",
    "_N.B. This dataset was openly sourced from [Kaggle](https://www.kaggle.com/datasets/joniarroba/noshowappointments)_"
   ]
  },
  {
   "cell_type": "code",
   "execution_count": 1,
   "metadata": {},
   "outputs": [],
   "source": [
    "# import relevant packages\n",
    "import pandas as pd\n",
    "import numpy as np\n",
    "import matplotlib.pyplot as plt\n",
    "import seaborn as sns\n",
    "import datetime\n",
    "%matplotlib inline"
   ]
  },
  {
   "cell_type": "markdown",
   "metadata": {},
   "source": [
    "<a id='wrangling'></a>\n",
    "## Data Wrangling\n",
    "\n",
    "### General Properties"
   ]
  },
  {
   "cell_type": "code",
   "execution_count": 2,
   "metadata": {},
   "outputs": [
    {
     "data": {
      "text/html": [
       "<div>\n",
       "<style scoped>\n",
       "    .dataframe tbody tr th:only-of-type {\n",
       "        vertical-align: middle;\n",
       "    }\n",
       "\n",
       "    .dataframe tbody tr th {\n",
       "        vertical-align: top;\n",
       "    }\n",
       "\n",
       "    .dataframe thead th {\n",
       "        text-align: right;\n",
       "    }\n",
       "</style>\n",
       "<table border=\"1\" class=\"dataframe\">\n",
       "  <thead>\n",
       "    <tr style=\"text-align: right;\">\n",
       "      <th></th>\n",
       "      <th>PatientId</th>\n",
       "      <th>AppointmentID</th>\n",
       "      <th>Gender</th>\n",
       "      <th>ScheduledDay</th>\n",
       "      <th>AppointmentDay</th>\n",
       "      <th>Age</th>\n",
       "      <th>Neighbourhood</th>\n",
       "      <th>Scholarship</th>\n",
       "      <th>Hipertension</th>\n",
       "      <th>Diabetes</th>\n",
       "      <th>Alcoholism</th>\n",
       "      <th>Handcap</th>\n",
       "      <th>SMS_received</th>\n",
       "      <th>No-show</th>\n",
       "    </tr>\n",
       "  </thead>\n",
       "  <tbody>\n",
       "    <tr>\n",
       "      <th>0</th>\n",
       "      <td>2.987250e+13</td>\n",
       "      <td>5642903</td>\n",
       "      <td>F</td>\n",
       "      <td>2016-04-29T18:38:08Z</td>\n",
       "      <td>2016-04-29T00:00:00Z</td>\n",
       "      <td>62</td>\n",
       "      <td>JARDIM DA PENHA</td>\n",
       "      <td>0</td>\n",
       "      <td>1</td>\n",
       "      <td>0</td>\n",
       "      <td>0</td>\n",
       "      <td>0</td>\n",
       "      <td>0</td>\n",
       "      <td>No</td>\n",
       "    </tr>\n",
       "    <tr>\n",
       "      <th>1</th>\n",
       "      <td>5.589978e+14</td>\n",
       "      <td>5642503</td>\n",
       "      <td>M</td>\n",
       "      <td>2016-04-29T16:08:27Z</td>\n",
       "      <td>2016-04-29T00:00:00Z</td>\n",
       "      <td>56</td>\n",
       "      <td>JARDIM DA PENHA</td>\n",
       "      <td>0</td>\n",
       "      <td>0</td>\n",
       "      <td>0</td>\n",
       "      <td>0</td>\n",
       "      <td>0</td>\n",
       "      <td>0</td>\n",
       "      <td>No</td>\n",
       "    </tr>\n",
       "  </tbody>\n",
       "</table>\n",
       "</div>"
      ],
      "text/plain": [
       "      PatientId  AppointmentID Gender          ScheduledDay  \\\n",
       "0  2.987250e+13        5642903      F  2016-04-29T18:38:08Z   \n",
       "1  5.589978e+14        5642503      M  2016-04-29T16:08:27Z   \n",
       "\n",
       "         AppointmentDay  Age    Neighbourhood  Scholarship  Hipertension  \\\n",
       "0  2016-04-29T00:00:00Z   62  JARDIM DA PENHA            0             1   \n",
       "1  2016-04-29T00:00:00Z   56  JARDIM DA PENHA            0             0   \n",
       "\n",
       "   Diabetes  Alcoholism  Handcap  SMS_received No-show  \n",
       "0         0           0        0             0      No  \n",
       "1         0           0        0             0      No  "
      ]
     },
     "execution_count": 2,
     "metadata": {},
     "output_type": "execute_result"
    }
   ],
   "source": [
    "#read in dataset\n",
    "df = pd.read_csv('noshowappointments.csv')\n",
    "df.head(2)"
   ]
  },
  {
   "cell_type": "code",
   "execution_count": 3,
   "metadata": {},
   "outputs": [
    {
     "data": {
      "text/plain": [
       "(110527, 14)"
      ]
     },
     "execution_count": 3,
     "metadata": {},
     "output_type": "execute_result"
    }
   ],
   "source": [
    "#Check data structure\n",
    "df.shape"
   ]
  },
  {
   "cell_type": "code",
   "execution_count": 4,
   "metadata": {},
   "outputs": [
    {
     "name": "stdout",
     "output_type": "stream",
     "text": [
      "<class 'pandas.core.frame.DataFrame'>\n",
      "RangeIndex: 110527 entries, 0 to 110526\n",
      "Data columns (total 14 columns):\n",
      " #   Column          Non-Null Count   Dtype  \n",
      "---  ------          --------------   -----  \n",
      " 0   PatientId       110527 non-null  float64\n",
      " 1   AppointmentID   110527 non-null  int64  \n",
      " 2   Gender          110527 non-null  object \n",
      " 3   ScheduledDay    110527 non-null  object \n",
      " 4   AppointmentDay  110527 non-null  object \n",
      " 5   Age             110527 non-null  int64  \n",
      " 6   Neighbourhood   110527 non-null  object \n",
      " 7   Scholarship     110527 non-null  int64  \n",
      " 8   Hipertension    110527 non-null  int64  \n",
      " 9   Diabetes        110527 non-null  int64  \n",
      " 10  Alcoholism      110527 non-null  int64  \n",
      " 11  Handcap         110527 non-null  int64  \n",
      " 12  SMS_received    110527 non-null  int64  \n",
      " 13  No-show         110527 non-null  object \n",
      "dtypes: float64(1), int64(8), object(5)\n",
      "memory usage: 11.8+ MB\n"
     ]
    }
   ],
   "source": [
    "#Check data structure and datatypes\n",
    "df.info()"
   ]
  },
  {
   "cell_type": "code",
   "execution_count": 5,
   "metadata": {},
   "outputs": [
    {
     "data": {
      "text/plain": [
       "0"
      ]
     },
     "execution_count": 5,
     "metadata": {},
     "output_type": "execute_result"
    }
   ],
   "source": [
    "#Check for duplicates\n",
    "df.duplicated().sum()"
   ]
  },
  {
   "cell_type": "markdown",
   "metadata": {},
   "source": [
    "### Data Cleaning \n",
    "As mentioned earlier in the introductory aspect this data has 110,527 observations to be precise with 14 different variables attached to each observation.\n",
    "From what we have above the major issues with this dataset appears to be data types\n",
    "> - Found that the patientID is classified as float, this column is not in any way useful for analysis as a quantitative variable so I will be converting it to string.\n",
    "> - Same thing applies to AppoinmentID. \n",
    "> - ScheduledDay is formatted as string instead of datetime.\n",
    "> - AppointmentDay likewise is formatted as string instead of datetime.\n",
    "> - There are no Null or Missing values to handle.\n",
    "> - Interestingly there are no duplicates in this dataset and each observation is found to be unique\n",
    "> - Create a wait time column to ascertain the number of days or hours patients had to wait for their appointment\n",
    "> - Handle outliers\n",
    "> - Rename and change all column headers to lowercase for consistency and to aid my analysis."
   ]
  },
  {
   "cell_type": "code",
   "execution_count": 6,
   "metadata": {},
   "outputs": [
    {
     "data": {
      "text/html": [
       "<div>\n",
       "<style scoped>\n",
       "    .dataframe tbody tr th:only-of-type {\n",
       "        vertical-align: middle;\n",
       "    }\n",
       "\n",
       "    .dataframe tbody tr th {\n",
       "        vertical-align: top;\n",
       "    }\n",
       "\n",
       "    .dataframe thead th {\n",
       "        text-align: right;\n",
       "    }\n",
       "</style>\n",
       "<table border=\"1\" class=\"dataframe\">\n",
       "  <thead>\n",
       "    <tr style=\"text-align: right;\">\n",
       "      <th></th>\n",
       "      <th>patientid</th>\n",
       "      <th>appointmentid</th>\n",
       "      <th>gender</th>\n",
       "      <th>scheduledday</th>\n",
       "      <th>appointmentday</th>\n",
       "      <th>age</th>\n",
       "      <th>neighbourhood</th>\n",
       "      <th>scholarship</th>\n",
       "      <th>hypertension</th>\n",
       "      <th>diabetes</th>\n",
       "      <th>alcoholism</th>\n",
       "      <th>handicap</th>\n",
       "      <th>sms_received</th>\n",
       "      <th>absent</th>\n",
       "    </tr>\n",
       "  </thead>\n",
       "  <tbody>\n",
       "    <tr>\n",
       "      <th>0</th>\n",
       "      <td>2.987250e+13</td>\n",
       "      <td>5642903</td>\n",
       "      <td>F</td>\n",
       "      <td>2016-04-29T18:38:08Z</td>\n",
       "      <td>2016-04-29T00:00:00Z</td>\n",
       "      <td>62</td>\n",
       "      <td>JARDIM DA PENHA</td>\n",
       "      <td>0</td>\n",
       "      <td>1</td>\n",
       "      <td>0</td>\n",
       "      <td>0</td>\n",
       "      <td>0</td>\n",
       "      <td>0</td>\n",
       "      <td>No</td>\n",
       "    </tr>\n",
       "  </tbody>\n",
       "</table>\n",
       "</div>"
      ],
      "text/plain": [
       "      patientid  appointmentid gender          scheduledday  \\\n",
       "0  2.987250e+13        5642903      F  2016-04-29T18:38:08Z   \n",
       "\n",
       "         appointmentday  age    neighbourhood  scholarship  hypertension  \\\n",
       "0  2016-04-29T00:00:00Z   62  JARDIM DA PENHA            0             1   \n",
       "\n",
       "   diabetes  alcoholism  handicap  sms_received absent  \n",
       "0         0           0         0             0     No  "
      ]
     },
     "execution_count": 6,
     "metadata": {},
     "output_type": "execute_result"
    }
   ],
   "source": [
    "#Change all column headers to lowercase for consistency\n",
    "\n",
    "#Renaming Columns\n",
    "df.columns = ['PatientID','AppointmentID','Gender','ScheduledDay','AppointmentDay','Age','Neighbourhood','Scholarship','Hypertension','Diabetes','Alcoholism','Handicap', 'SMS_received', 'Absent']\n",
    "df.columns = df.columns.str.lower()\n",
    "df.head(1)"
   ]
  },
  {
   "cell_type": "code",
   "execution_count": 7,
   "metadata": {},
   "outputs": [
    {
     "data": {
      "text/html": [
       "<div>\n",
       "<style scoped>\n",
       "    .dataframe tbody tr th:only-of-type {\n",
       "        vertical-align: middle;\n",
       "    }\n",
       "\n",
       "    .dataframe tbody tr th {\n",
       "        vertical-align: top;\n",
       "    }\n",
       "\n",
       "    .dataframe thead th {\n",
       "        text-align: right;\n",
       "    }\n",
       "</style>\n",
       "<table border=\"1\" class=\"dataframe\">\n",
       "  <thead>\n",
       "    <tr style=\"text-align: right;\">\n",
       "      <th></th>\n",
       "      <th>patientid</th>\n",
       "      <th>appointmentid</th>\n",
       "      <th>gender</th>\n",
       "      <th>scheduledday</th>\n",
       "      <th>appointmentday</th>\n",
       "      <th>age</th>\n",
       "      <th>neighbourhood</th>\n",
       "      <th>scholarship</th>\n",
       "      <th>hypertension</th>\n",
       "      <th>diabetes</th>\n",
       "      <th>alcoholism</th>\n",
       "      <th>handicap</th>\n",
       "      <th>sms_received</th>\n",
       "      <th>absent</th>\n",
       "    </tr>\n",
       "  </thead>\n",
       "  <tbody>\n",
       "    <tr>\n",
       "      <th>0</th>\n",
       "      <td>29872499824296.0</td>\n",
       "      <td>5642903</td>\n",
       "      <td>F</td>\n",
       "      <td>2016-04-29T18:38:08Z</td>\n",
       "      <td>2016-04-29T00:00:00Z</td>\n",
       "      <td>62</td>\n",
       "      <td>JARDIM DA PENHA</td>\n",
       "      <td>0</td>\n",
       "      <td>1</td>\n",
       "      <td>0</td>\n",
       "      <td>0</td>\n",
       "      <td>0</td>\n",
       "      <td>0</td>\n",
       "      <td>No</td>\n",
       "    </tr>\n",
       "    <tr>\n",
       "      <th>1</th>\n",
       "      <td>558997776694438.0</td>\n",
       "      <td>5642503</td>\n",
       "      <td>M</td>\n",
       "      <td>2016-04-29T16:08:27Z</td>\n",
       "      <td>2016-04-29T00:00:00Z</td>\n",
       "      <td>56</td>\n",
       "      <td>JARDIM DA PENHA</td>\n",
       "      <td>0</td>\n",
       "      <td>0</td>\n",
       "      <td>0</td>\n",
       "      <td>0</td>\n",
       "      <td>0</td>\n",
       "      <td>0</td>\n",
       "      <td>No</td>\n",
       "    </tr>\n",
       "  </tbody>\n",
       "</table>\n",
       "</div>"
      ],
      "text/plain": [
       "           patientid appointmentid gender          scheduledday  \\\n",
       "0   29872499824296.0       5642903      F  2016-04-29T18:38:08Z   \n",
       "1  558997776694438.0       5642503      M  2016-04-29T16:08:27Z   \n",
       "\n",
       "         appointmentday  age    neighbourhood  scholarship  hypertension  \\\n",
       "0  2016-04-29T00:00:00Z   62  JARDIM DA PENHA            0             1   \n",
       "1  2016-04-29T00:00:00Z   56  JARDIM DA PENHA            0             0   \n",
       "\n",
       "   diabetes  alcoholism  handicap  sms_received absent  \n",
       "0         0           0         0             0     No  \n",
       "1         0           0         0             0     No  "
      ]
     },
     "execution_count": 7,
     "metadata": {},
     "output_type": "execute_result"
    }
   ],
   "source": [
    "#Change Id columns to string \n",
    "df['patientid'] = df['patientid'].astype(str)\n",
    "df['appointmentid'] = df['appointmentid'].astype(str)\n",
    "df.head(2)"
   ]
  },
  {
   "cell_type": "code",
   "execution_count": 8,
   "metadata": {},
   "outputs": [],
   "source": [
    "#remove last two characters in the patient id \n",
    "df['patientid'] = df['patientid'].str[:-2]"
   ]
  },
  {
   "cell_type": "code",
   "execution_count": 9,
   "metadata": {},
   "outputs": [
    {
     "data": {
      "text/plain": [
       "62299"
      ]
     },
     "execution_count": 9,
     "metadata": {},
     "output_type": "execute_result"
    }
   ],
   "source": [
    "#cheque number of unique patientid's\n",
    "df['patientid'].nunique()"
   ]
  },
  {
   "cell_type": "markdown",
   "metadata": {},
   "source": [
    "This tells that we have 62,299 patient's with their unique id's\n",
    "\n",
    "Proceed to addressing the issues with other data types, also create a new calculated column to know the wait time. i.e the interval between the day the appointment was scheduled and the actual day of appointment."
   ]
  },
  {
   "cell_type": "code",
   "execution_count": 10,
   "metadata": {},
   "outputs": [],
   "source": [
    "#Change scheduledday and appointmentday to datetime\n",
    "df['scheduledday'] = pd.to_datetime(df['scheduledday'])\n",
    "df['appointmentday'] = pd.to_datetime(df['appointmentday'])"
   ]
  },
  {
   "cell_type": "code",
   "execution_count": 11,
   "metadata": {},
   "outputs": [
    {
     "data": {
      "text/html": [
       "<div>\n",
       "<style scoped>\n",
       "    .dataframe tbody tr th:only-of-type {\n",
       "        vertical-align: middle;\n",
       "    }\n",
       "\n",
       "    .dataframe tbody tr th {\n",
       "        vertical-align: top;\n",
       "    }\n",
       "\n",
       "    .dataframe thead th {\n",
       "        text-align: right;\n",
       "    }\n",
       "</style>\n",
       "<table border=\"1\" class=\"dataframe\">\n",
       "  <thead>\n",
       "    <tr style=\"text-align: right;\">\n",
       "      <th></th>\n",
       "      <th>patientid</th>\n",
       "      <th>appointmentid</th>\n",
       "      <th>gender</th>\n",
       "      <th>scheduledday</th>\n",
       "      <th>appointmentday</th>\n",
       "      <th>age</th>\n",
       "      <th>neighbourhood</th>\n",
       "      <th>scholarship</th>\n",
       "      <th>hypertension</th>\n",
       "      <th>diabetes</th>\n",
       "      <th>alcoholism</th>\n",
       "      <th>handicap</th>\n",
       "      <th>sms_received</th>\n",
       "      <th>absent</th>\n",
       "      <th>scheduledate</th>\n",
       "      <th>scheduletime</th>\n",
       "      <th>appointmentdate</th>\n",
       "      <th>appointmenttime</th>\n",
       "    </tr>\n",
       "  </thead>\n",
       "  <tbody>\n",
       "    <tr>\n",
       "      <th>0</th>\n",
       "      <td>29872499824296</td>\n",
       "      <td>5642903</td>\n",
       "      <td>F</td>\n",
       "      <td>2016-04-29 18:38:08+00:00</td>\n",
       "      <td>2016-04-29 00:00:00+00:00</td>\n",
       "      <td>62</td>\n",
       "      <td>JARDIM DA PENHA</td>\n",
       "      <td>0</td>\n",
       "      <td>1</td>\n",
       "      <td>0</td>\n",
       "      <td>0</td>\n",
       "      <td>0</td>\n",
       "      <td>0</td>\n",
       "      <td>No</td>\n",
       "      <td>2016-04-29</td>\n",
       "      <td>18:38:08</td>\n",
       "      <td>2016-04-29</td>\n",
       "      <td>00:00:00</td>\n",
       "    </tr>\n",
       "    <tr>\n",
       "      <th>1</th>\n",
       "      <td>558997776694438</td>\n",
       "      <td>5642503</td>\n",
       "      <td>M</td>\n",
       "      <td>2016-04-29 16:08:27+00:00</td>\n",
       "      <td>2016-04-29 00:00:00+00:00</td>\n",
       "      <td>56</td>\n",
       "      <td>JARDIM DA PENHA</td>\n",
       "      <td>0</td>\n",
       "      <td>0</td>\n",
       "      <td>0</td>\n",
       "      <td>0</td>\n",
       "      <td>0</td>\n",
       "      <td>0</td>\n",
       "      <td>No</td>\n",
       "      <td>2016-04-29</td>\n",
       "      <td>16:08:27</td>\n",
       "      <td>2016-04-29</td>\n",
       "      <td>00:00:00</td>\n",
       "    </tr>\n",
       "  </tbody>\n",
       "</table>\n",
       "</div>"
      ],
      "text/plain": [
       "         patientid appointmentid gender              scheduledday  \\\n",
       "0   29872499824296       5642903      F 2016-04-29 18:38:08+00:00   \n",
       "1  558997776694438       5642503      M 2016-04-29 16:08:27+00:00   \n",
       "\n",
       "             appointmentday  age    neighbourhood  scholarship  hypertension  \\\n",
       "0 2016-04-29 00:00:00+00:00   62  JARDIM DA PENHA            0             1   \n",
       "1 2016-04-29 00:00:00+00:00   56  JARDIM DA PENHA            0             0   \n",
       "\n",
       "   diabetes  alcoholism  handicap  sms_received absent scheduledate  \\\n",
       "0         0           0         0             0     No   2016-04-29   \n",
       "1         0           0         0             0     No   2016-04-29   \n",
       "\n",
       "  scheduletime appointmentdate appointmenttime  \n",
       "0     18:38:08      2016-04-29        00:00:00  \n",
       "1     16:08:27      2016-04-29        00:00:00  "
      ]
     },
     "execution_count": 11,
     "metadata": {},
     "output_type": "execute_result"
    }
   ],
   "source": [
    "#seperate date from time in scheduledday and appointmentday\n",
    "df['scheduledate'] = df['scheduledday'].dt.date\n",
    "df['scheduletime'] = df['scheduledday'].dt.time\n",
    "df['appointmentdate'] = df['appointmentday'].dt.date\n",
    "df['appointmenttime'] = df['appointmentday'].dt.time\n",
    "df.head(2)"
   ]
  },
  {
   "cell_type": "code",
   "execution_count": 12,
   "metadata": {},
   "outputs": [],
   "source": [
    "#drop unwanted columns\n",
    "column = ['scheduledday', 'appointmentday', 'scheduletime', 'appointmenttime', 'alcoholism', 'hypertension']\n",
    "df.drop(labels = column, axis= 1, inplace= True)"
   ]
  },
  {
   "cell_type": "code",
   "execution_count": 13,
   "metadata": {},
   "outputs": [
    {
     "data": {
      "text/html": [
       "<div>\n",
       "<style scoped>\n",
       "    .dataframe tbody tr th:only-of-type {\n",
       "        vertical-align: middle;\n",
       "    }\n",
       "\n",
       "    .dataframe tbody tr th {\n",
       "        vertical-align: top;\n",
       "    }\n",
       "\n",
       "    .dataframe thead th {\n",
       "        text-align: right;\n",
       "    }\n",
       "</style>\n",
       "<table border=\"1\" class=\"dataframe\">\n",
       "  <thead>\n",
       "    <tr style=\"text-align: right;\">\n",
       "      <th></th>\n",
       "      <th>patientid</th>\n",
       "      <th>appointmentid</th>\n",
       "      <th>gender</th>\n",
       "      <th>age</th>\n",
       "      <th>neighbourhood</th>\n",
       "      <th>scholarship</th>\n",
       "      <th>diabetes</th>\n",
       "      <th>handicap</th>\n",
       "      <th>sms_received</th>\n",
       "      <th>absent</th>\n",
       "      <th>scheduledate</th>\n",
       "      <th>appointmentdate</th>\n",
       "      <th>wait_time</th>\n",
       "    </tr>\n",
       "  </thead>\n",
       "  <tbody>\n",
       "    <tr>\n",
       "      <th>0</th>\n",
       "      <td>29872499824296</td>\n",
       "      <td>5642903</td>\n",
       "      <td>F</td>\n",
       "      <td>62</td>\n",
       "      <td>JARDIM DA PENHA</td>\n",
       "      <td>0</td>\n",
       "      <td>0</td>\n",
       "      <td>0</td>\n",
       "      <td>0</td>\n",
       "      <td>No</td>\n",
       "      <td>2016-04-29</td>\n",
       "      <td>2016-04-29</td>\n",
       "      <td>0 days</td>\n",
       "    </tr>\n",
       "    <tr>\n",
       "      <th>1</th>\n",
       "      <td>558997776694438</td>\n",
       "      <td>5642503</td>\n",
       "      <td>M</td>\n",
       "      <td>56</td>\n",
       "      <td>JARDIM DA PENHA</td>\n",
       "      <td>0</td>\n",
       "      <td>0</td>\n",
       "      <td>0</td>\n",
       "      <td>0</td>\n",
       "      <td>No</td>\n",
       "      <td>2016-04-29</td>\n",
       "      <td>2016-04-29</td>\n",
       "      <td>0 days</td>\n",
       "    </tr>\n",
       "    <tr>\n",
       "      <th>2</th>\n",
       "      <td>4262962299951</td>\n",
       "      <td>5642549</td>\n",
       "      <td>F</td>\n",
       "      <td>62</td>\n",
       "      <td>MATA DA PRAIA</td>\n",
       "      <td>0</td>\n",
       "      <td>0</td>\n",
       "      <td>0</td>\n",
       "      <td>0</td>\n",
       "      <td>No</td>\n",
       "      <td>2016-04-29</td>\n",
       "      <td>2016-04-29</td>\n",
       "      <td>0 days</td>\n",
       "    </tr>\n",
       "  </tbody>\n",
       "</table>\n",
       "</div>"
      ],
      "text/plain": [
       "         patientid appointmentid gender  age    neighbourhood  scholarship  \\\n",
       "0   29872499824296       5642903      F   62  JARDIM DA PENHA            0   \n",
       "1  558997776694438       5642503      M   56  JARDIM DA PENHA            0   \n",
       "2    4262962299951       5642549      F   62    MATA DA PRAIA            0   \n",
       "\n",
       "   diabetes  handicap  sms_received absent scheduledate appointmentdate  \\\n",
       "0         0         0             0     No   2016-04-29      2016-04-29   \n",
       "1         0         0             0     No   2016-04-29      2016-04-29   \n",
       "2         0         0             0     No   2016-04-29      2016-04-29   \n",
       "\n",
       "  wait_time  \n",
       "0    0 days  \n",
       "1    0 days  \n",
       "2    0 days  "
      ]
     },
     "execution_count": 13,
     "metadata": {},
     "output_type": "execute_result"
    }
   ],
   "source": [
    "#create wait time column\n",
    "df['wait_time'] = df['appointmentdate'] - df['scheduledate']\n",
    "df.head(3)"
   ]
  },
  {
   "cell_type": "code",
   "execution_count": 14,
   "metadata": {},
   "outputs": [
    {
     "data": {
      "text/html": [
       "<div>\n",
       "<style scoped>\n",
       "    .dataframe tbody tr th:only-of-type {\n",
       "        vertical-align: middle;\n",
       "    }\n",
       "\n",
       "    .dataframe tbody tr th {\n",
       "        vertical-align: top;\n",
       "    }\n",
       "\n",
       "    .dataframe thead th {\n",
       "        text-align: right;\n",
       "    }\n",
       "</style>\n",
       "<table border=\"1\" class=\"dataframe\">\n",
       "  <thead>\n",
       "    <tr style=\"text-align: right;\">\n",
       "      <th></th>\n",
       "      <th>age</th>\n",
       "      <th>scholarship</th>\n",
       "      <th>diabetes</th>\n",
       "      <th>handicap</th>\n",
       "      <th>sms_received</th>\n",
       "      <th>wait_time</th>\n",
       "    </tr>\n",
       "  </thead>\n",
       "  <tbody>\n",
       "    <tr>\n",
       "      <th>count</th>\n",
       "      <td>110527.000000</td>\n",
       "      <td>110527.000000</td>\n",
       "      <td>110527.000000</td>\n",
       "      <td>110527.000000</td>\n",
       "      <td>110527.000000</td>\n",
       "      <td>110527</td>\n",
       "    </tr>\n",
       "    <tr>\n",
       "      <th>mean</th>\n",
       "      <td>37.088874</td>\n",
       "      <td>0.098266</td>\n",
       "      <td>0.071865</td>\n",
       "      <td>0.022248</td>\n",
       "      <td>0.321026</td>\n",
       "      <td>10 days 04:24:31.828602965</td>\n",
       "    </tr>\n",
       "    <tr>\n",
       "      <th>std</th>\n",
       "      <td>23.110205</td>\n",
       "      <td>0.297675</td>\n",
       "      <td>0.258265</td>\n",
       "      <td>0.161543</td>\n",
       "      <td>0.466873</td>\n",
       "      <td>15 days 06:07:11.673762786</td>\n",
       "    </tr>\n",
       "    <tr>\n",
       "      <th>min</th>\n",
       "      <td>-1.000000</td>\n",
       "      <td>0.000000</td>\n",
       "      <td>0.000000</td>\n",
       "      <td>0.000000</td>\n",
       "      <td>0.000000</td>\n",
       "      <td>-6 days +00:00:00</td>\n",
       "    </tr>\n",
       "    <tr>\n",
       "      <th>25%</th>\n",
       "      <td>18.000000</td>\n",
       "      <td>0.000000</td>\n",
       "      <td>0.000000</td>\n",
       "      <td>0.000000</td>\n",
       "      <td>0.000000</td>\n",
       "      <td>0 days 00:00:00</td>\n",
       "    </tr>\n",
       "    <tr>\n",
       "      <th>50%</th>\n",
       "      <td>37.000000</td>\n",
       "      <td>0.000000</td>\n",
       "      <td>0.000000</td>\n",
       "      <td>0.000000</td>\n",
       "      <td>0.000000</td>\n",
       "      <td>4 days 00:00:00</td>\n",
       "    </tr>\n",
       "    <tr>\n",
       "      <th>75%</th>\n",
       "      <td>55.000000</td>\n",
       "      <td>0.000000</td>\n",
       "      <td>0.000000</td>\n",
       "      <td>0.000000</td>\n",
       "      <td>1.000000</td>\n",
       "      <td>15 days 00:00:00</td>\n",
       "    </tr>\n",
       "    <tr>\n",
       "      <th>max</th>\n",
       "      <td>115.000000</td>\n",
       "      <td>1.000000</td>\n",
       "      <td>1.000000</td>\n",
       "      <td>4.000000</td>\n",
       "      <td>1.000000</td>\n",
       "      <td>179 days 00:00:00</td>\n",
       "    </tr>\n",
       "  </tbody>\n",
       "</table>\n",
       "</div>"
      ],
      "text/plain": [
       "                 age    scholarship       diabetes       handicap  \\\n",
       "count  110527.000000  110527.000000  110527.000000  110527.000000   \n",
       "mean       37.088874       0.098266       0.071865       0.022248   \n",
       "std        23.110205       0.297675       0.258265       0.161543   \n",
       "min        -1.000000       0.000000       0.000000       0.000000   \n",
       "25%        18.000000       0.000000       0.000000       0.000000   \n",
       "50%        37.000000       0.000000       0.000000       0.000000   \n",
       "75%        55.000000       0.000000       0.000000       0.000000   \n",
       "max       115.000000       1.000000       1.000000       4.000000   \n",
       "\n",
       "        sms_received                   wait_time  \n",
       "count  110527.000000                      110527  \n",
       "mean        0.321026  10 days 04:24:31.828602965  \n",
       "std         0.466873  15 days 06:07:11.673762786  \n",
       "min         0.000000           -6 days +00:00:00  \n",
       "25%         0.000000             0 days 00:00:00  \n",
       "50%         0.000000             4 days 00:00:00  \n",
       "75%         1.000000            15 days 00:00:00  \n",
       "max         1.000000           179 days 00:00:00  "
      ]
     },
     "execution_count": 14,
     "metadata": {},
     "output_type": "execute_result"
    }
   ],
   "source": [
    "df.describe()"
   ]
  },
  {
   "cell_type": "markdown",
   "metadata": {},
   "source": [
    "There are outliers in the age column with age -1, also we find out there are negative numbers in the wait time which should not be, we will address all these issues in the next few steps"
   ]
  },
  {
   "cell_type": "code",
   "execution_count": 15,
   "metadata": {},
   "outputs": [
    {
     "data": {
      "text/html": [
       "<div>\n",
       "<style scoped>\n",
       "    .dataframe tbody tr th:only-of-type {\n",
       "        vertical-align: middle;\n",
       "    }\n",
       "\n",
       "    .dataframe tbody tr th {\n",
       "        vertical-align: top;\n",
       "    }\n",
       "\n",
       "    .dataframe thead th {\n",
       "        text-align: right;\n",
       "    }\n",
       "</style>\n",
       "<table border=\"1\" class=\"dataframe\">\n",
       "  <thead>\n",
       "    <tr style=\"text-align: right;\">\n",
       "      <th></th>\n",
       "      <th>patientid</th>\n",
       "      <th>appointmentid</th>\n",
       "      <th>gender</th>\n",
       "      <th>age</th>\n",
       "      <th>neighbourhood</th>\n",
       "      <th>scholarship</th>\n",
       "      <th>diabetes</th>\n",
       "      <th>handicap</th>\n",
       "      <th>sms_received</th>\n",
       "      <th>absent</th>\n",
       "      <th>scheduledate</th>\n",
       "      <th>appointmentdate</th>\n",
       "      <th>wait_time</th>\n",
       "    </tr>\n",
       "  </thead>\n",
       "  <tbody>\n",
       "    <tr>\n",
       "      <th>99832</th>\n",
       "      <td>465943158731293</td>\n",
       "      <td>5775010</td>\n",
       "      <td>F</td>\n",
       "      <td>-1</td>\n",
       "      <td>ROMÃO</td>\n",
       "      <td>0</td>\n",
       "      <td>0</td>\n",
       "      <td>0</td>\n",
       "      <td>0</td>\n",
       "      <td>No</td>\n",
       "      <td>2016-06-06</td>\n",
       "      <td>2016-06-06</td>\n",
       "      <td>0 days</td>\n",
       "    </tr>\n",
       "  </tbody>\n",
       "</table>\n",
       "</div>"
      ],
      "text/plain": [
       "             patientid appointmentid gender  age neighbourhood  scholarship  \\\n",
       "99832  465943158731293       5775010      F   -1         ROMÃO            0   \n",
       "\n",
       "       diabetes  handicap  sms_received absent scheduledate appointmentdate  \\\n",
       "99832         0         0             0     No   2016-06-06      2016-06-06   \n",
       "\n",
       "      wait_time  \n",
       "99832    0 days  "
      ]
     },
     "execution_count": 15,
     "metadata": {},
     "output_type": "execute_result"
    }
   ],
   "source": [
    "#query observations with age -1\n",
    "df.query('age == -1')"
   ]
  },
  {
   "cell_type": "code",
   "execution_count": 16,
   "metadata": {},
   "outputs": [
    {
     "data": {
      "text/html": [
       "<div>\n",
       "<style scoped>\n",
       "    .dataframe tbody tr th:only-of-type {\n",
       "        vertical-align: middle;\n",
       "    }\n",
       "\n",
       "    .dataframe tbody tr th {\n",
       "        vertical-align: top;\n",
       "    }\n",
       "\n",
       "    .dataframe thead th {\n",
       "        text-align: right;\n",
       "    }\n",
       "</style>\n",
       "<table border=\"1\" class=\"dataframe\">\n",
       "  <thead>\n",
       "    <tr style=\"text-align: right;\">\n",
       "      <th></th>\n",
       "      <th>patientid</th>\n",
       "      <th>appointmentid</th>\n",
       "      <th>gender</th>\n",
       "      <th>age</th>\n",
       "      <th>neighbourhood</th>\n",
       "      <th>scholarship</th>\n",
       "      <th>diabetes</th>\n",
       "      <th>handicap</th>\n",
       "      <th>sms_received</th>\n",
       "      <th>absent</th>\n",
       "      <th>scheduledate</th>\n",
       "      <th>appointmentdate</th>\n",
       "      <th>wait_time</th>\n",
       "    </tr>\n",
       "  </thead>\n",
       "  <tbody>\n",
       "    <tr>\n",
       "      <th>71533</th>\n",
       "      <td>998231581612122</td>\n",
       "      <td>5686628</td>\n",
       "      <td>F</td>\n",
       "      <td>81</td>\n",
       "      <td>SANTO ANTÔNIO</td>\n",
       "      <td>0</td>\n",
       "      <td>0</td>\n",
       "      <td>0</td>\n",
       "      <td>0</td>\n",
       "      <td>Yes</td>\n",
       "      <td>2016-05-11</td>\n",
       "      <td>2016-05-05</td>\n",
       "      <td>-6 days</td>\n",
       "    </tr>\n",
       "  </tbody>\n",
       "</table>\n",
       "</div>"
      ],
      "text/plain": [
       "             patientid appointmentid gender  age  neighbourhood  scholarship  \\\n",
       "71533  998231581612122       5686628      F   81  SANTO ANTÔNIO            0   \n",
       "\n",
       "       diabetes  handicap  sms_received absent scheduledate appointmentdate  \\\n",
       "71533         0         0             0    Yes   2016-05-11      2016-05-05   \n",
       "\n",
       "      wait_time  \n",
       "71533   -6 days  "
      ]
     },
     "execution_count": 16,
     "metadata": {},
     "output_type": "execute_result"
    }
   ],
   "source": [
    "#query observations with wait_time -6 days\n",
    "df.query('wait_time == \"-6 days\"')"
   ]
  },
  {
   "cell_type": "code",
   "execution_count": 17,
   "metadata": {},
   "outputs": [
    {
     "data": {
      "text/html": [
       "<div>\n",
       "<style scoped>\n",
       "    .dataframe tbody tr th:only-of-type {\n",
       "        vertical-align: middle;\n",
       "    }\n",
       "\n",
       "    .dataframe tbody tr th {\n",
       "        vertical-align: top;\n",
       "    }\n",
       "\n",
       "    .dataframe thead th {\n",
       "        text-align: right;\n",
       "    }\n",
       "</style>\n",
       "<table border=\"1\" class=\"dataframe\">\n",
       "  <thead>\n",
       "    <tr style=\"text-align: right;\">\n",
       "      <th></th>\n",
       "      <th>patientid</th>\n",
       "      <th>appointmentid</th>\n",
       "      <th>gender</th>\n",
       "      <th>age</th>\n",
       "      <th>neighbourhood</th>\n",
       "      <th>scholarship</th>\n",
       "      <th>diabetes</th>\n",
       "      <th>handicap</th>\n",
       "      <th>sms_received</th>\n",
       "      <th>absent</th>\n",
       "      <th>scheduledate</th>\n",
       "      <th>appointmentdate</th>\n",
       "      <th>wait_time</th>\n",
       "    </tr>\n",
       "  </thead>\n",
       "  <tbody>\n",
       "    <tr>\n",
       "      <th>27033</th>\n",
       "      <td>7839272661752</td>\n",
       "      <td>5679978</td>\n",
       "      <td>M</td>\n",
       "      <td>38</td>\n",
       "      <td>RESISTÊNCIA</td>\n",
       "      <td>0</td>\n",
       "      <td>0</td>\n",
       "      <td>1</td>\n",
       "      <td>0</td>\n",
       "      <td>Yes</td>\n",
       "      <td>2016-05-10</td>\n",
       "      <td>2016-05-09</td>\n",
       "      <td>-1 days</td>\n",
       "    </tr>\n",
       "    <tr>\n",
       "      <th>55226</th>\n",
       "      <td>7896293967868</td>\n",
       "      <td>5715660</td>\n",
       "      <td>F</td>\n",
       "      <td>19</td>\n",
       "      <td>SANTO ANTÔNIO</td>\n",
       "      <td>0</td>\n",
       "      <td>0</td>\n",
       "      <td>1</td>\n",
       "      <td>0</td>\n",
       "      <td>Yes</td>\n",
       "      <td>2016-05-18</td>\n",
       "      <td>2016-05-17</td>\n",
       "      <td>-1 days</td>\n",
       "    </tr>\n",
       "    <tr>\n",
       "      <th>64175</th>\n",
       "      <td>24252258389979</td>\n",
       "      <td>5664962</td>\n",
       "      <td>F</td>\n",
       "      <td>22</td>\n",
       "      <td>CONSOLAÇÃO</td>\n",
       "      <td>0</td>\n",
       "      <td>0</td>\n",
       "      <td>0</td>\n",
       "      <td>0</td>\n",
       "      <td>Yes</td>\n",
       "      <td>2016-05-05</td>\n",
       "      <td>2016-05-04</td>\n",
       "      <td>-1 days</td>\n",
       "    </tr>\n",
       "    <tr>\n",
       "      <th>72362</th>\n",
       "      <td>3787481966821</td>\n",
       "      <td>5655637</td>\n",
       "      <td>M</td>\n",
       "      <td>7</td>\n",
       "      <td>TABUAZEIRO</td>\n",
       "      <td>0</td>\n",
       "      <td>0</td>\n",
       "      <td>0</td>\n",
       "      <td>0</td>\n",
       "      <td>Yes</td>\n",
       "      <td>2016-05-04</td>\n",
       "      <td>2016-05-03</td>\n",
       "      <td>-1 days</td>\n",
       "    </tr>\n",
       "  </tbody>\n",
       "</table>\n",
       "</div>"
      ],
      "text/plain": [
       "            patientid appointmentid gender  age  neighbourhood  scholarship  \\\n",
       "27033   7839272661752       5679978      M   38    RESISTÊNCIA            0   \n",
       "55226   7896293967868       5715660      F   19  SANTO ANTÔNIO            0   \n",
       "64175  24252258389979       5664962      F   22     CONSOLAÇÃO            0   \n",
       "72362   3787481966821       5655637      M    7     TABUAZEIRO            0   \n",
       "\n",
       "       diabetes  handicap  sms_received absent scheduledate appointmentdate  \\\n",
       "27033         0         1             0    Yes   2016-05-10      2016-05-09   \n",
       "55226         0         1             0    Yes   2016-05-18      2016-05-17   \n",
       "64175         0         0             0    Yes   2016-05-05      2016-05-04   \n",
       "72362         0         0             0    Yes   2016-05-04      2016-05-03   \n",
       "\n",
       "      wait_time  \n",
       "27033   -1 days  \n",
       "55226   -1 days  \n",
       "64175   -1 days  \n",
       "72362   -1 days  "
      ]
     },
     "execution_count": 17,
     "metadata": {},
     "output_type": "execute_result"
    }
   ],
   "source": [
    "#query observations with wait_time -1 days\n",
    "df.query('wait_time == \"-1 days\"')"
   ]
  },
  {
   "cell_type": "code",
   "execution_count": 18,
   "metadata": {},
   "outputs": [],
   "source": [
    "#drop all observations through their respective index\n",
    "df.drop([27033,55226,64175,72362], axis= 0, inplace= True)\n",
    "df.drop([71533], axis= 0, inplace= True)\n",
    "df.drop([99832], axis= 0, inplace= True)"
   ]
  },
  {
   "cell_type": "code",
   "execution_count": 19,
   "metadata": {},
   "outputs": [
    {
     "name": "stdout",
     "output_type": "stream",
     "text": [
      "<class 'pandas.core.frame.DataFrame'>\n",
      "Int64Index: 110521 entries, 0 to 110526\n",
      "Data columns (total 13 columns):\n",
      " #   Column           Non-Null Count   Dtype          \n",
      "---  ------           --------------   -----          \n",
      " 0   patientid        110521 non-null  object         \n",
      " 1   appointmentid    110521 non-null  object         \n",
      " 2   gender           110521 non-null  object         \n",
      " 3   age              110521 non-null  int64          \n",
      " 4   neighbourhood    110521 non-null  object         \n",
      " 5   scholarship      110521 non-null  int64          \n",
      " 6   diabetes         110521 non-null  int64          \n",
      " 7   handicap         110521 non-null  int64          \n",
      " 8   sms_received     110521 non-null  int64          \n",
      " 9   absent           110521 non-null  object         \n",
      " 10  scheduledate     110521 non-null  object         \n",
      " 11  appointmentdate  110521 non-null  object         \n",
      " 12  wait_time        110521 non-null  timedelta64[ns]\n",
      "dtypes: int64(5), object(7), timedelta64[ns](1)\n",
      "memory usage: 11.8+ MB\n"
     ]
    }
   ],
   "source": [
    "#confirm all data are in the right types and correct\n",
    "df.info()"
   ]
  },
  {
   "cell_type": "code",
   "execution_count": 20,
   "metadata": {},
   "outputs": [
    {
     "data": {
      "text/html": [
       "<div>\n",
       "<style scoped>\n",
       "    .dataframe tbody tr th:only-of-type {\n",
       "        vertical-align: middle;\n",
       "    }\n",
       "\n",
       "    .dataframe tbody tr th {\n",
       "        vertical-align: top;\n",
       "    }\n",
       "\n",
       "    .dataframe thead th {\n",
       "        text-align: right;\n",
       "    }\n",
       "</style>\n",
       "<table border=\"1\" class=\"dataframe\">\n",
       "  <thead>\n",
       "    <tr style=\"text-align: right;\">\n",
       "      <th></th>\n",
       "      <th>age</th>\n",
       "      <th>scholarship</th>\n",
       "      <th>diabetes</th>\n",
       "      <th>handicap</th>\n",
       "      <th>sms_received</th>\n",
       "      <th>wait_time</th>\n",
       "    </tr>\n",
       "  </thead>\n",
       "  <tbody>\n",
       "    <tr>\n",
       "      <th>count</th>\n",
       "      <td>110521.000000</td>\n",
       "      <td>110521.000000</td>\n",
       "      <td>110521.000000</td>\n",
       "      <td>110521.000000</td>\n",
       "      <td>110521.000000</td>\n",
       "      <td>110521</td>\n",
       "    </tr>\n",
       "    <tr>\n",
       "      <th>mean</th>\n",
       "      <td>37.089386</td>\n",
       "      <td>0.098271</td>\n",
       "      <td>0.071869</td>\n",
       "      <td>0.022231</td>\n",
       "      <td>0.321043</td>\n",
       "      <td>10 days 04:25:27.412889858</td>\n",
       "    </tr>\n",
       "    <tr>\n",
       "      <th>std</th>\n",
       "      <td>23.109885</td>\n",
       "      <td>0.297682</td>\n",
       "      <td>0.258272</td>\n",
       "      <td>0.161494</td>\n",
       "      <td>0.466879</td>\n",
       "      <td>15 days 06:07:25.262183605</td>\n",
       "    </tr>\n",
       "    <tr>\n",
       "      <th>min</th>\n",
       "      <td>0.000000</td>\n",
       "      <td>0.000000</td>\n",
       "      <td>0.000000</td>\n",
       "      <td>0.000000</td>\n",
       "      <td>0.000000</td>\n",
       "      <td>0 days 00:00:00</td>\n",
       "    </tr>\n",
       "    <tr>\n",
       "      <th>25%</th>\n",
       "      <td>18.000000</td>\n",
       "      <td>0.000000</td>\n",
       "      <td>0.000000</td>\n",
       "      <td>0.000000</td>\n",
       "      <td>0.000000</td>\n",
       "      <td>0 days 00:00:00</td>\n",
       "    </tr>\n",
       "    <tr>\n",
       "      <th>50%</th>\n",
       "      <td>37.000000</td>\n",
       "      <td>0.000000</td>\n",
       "      <td>0.000000</td>\n",
       "      <td>0.000000</td>\n",
       "      <td>0.000000</td>\n",
       "      <td>4 days 00:00:00</td>\n",
       "    </tr>\n",
       "    <tr>\n",
       "      <th>75%</th>\n",
       "      <td>55.000000</td>\n",
       "      <td>0.000000</td>\n",
       "      <td>0.000000</td>\n",
       "      <td>0.000000</td>\n",
       "      <td>1.000000</td>\n",
       "      <td>15 days 00:00:00</td>\n",
       "    </tr>\n",
       "    <tr>\n",
       "      <th>max</th>\n",
       "      <td>115.000000</td>\n",
       "      <td>1.000000</td>\n",
       "      <td>1.000000</td>\n",
       "      <td>4.000000</td>\n",
       "      <td>1.000000</td>\n",
       "      <td>179 days 00:00:00</td>\n",
       "    </tr>\n",
       "  </tbody>\n",
       "</table>\n",
       "</div>"
      ],
      "text/plain": [
       "                 age    scholarship       diabetes       handicap  \\\n",
       "count  110521.000000  110521.000000  110521.000000  110521.000000   \n",
       "mean       37.089386       0.098271       0.071869       0.022231   \n",
       "std        23.109885       0.297682       0.258272       0.161494   \n",
       "min         0.000000       0.000000       0.000000       0.000000   \n",
       "25%        18.000000       0.000000       0.000000       0.000000   \n",
       "50%        37.000000       0.000000       0.000000       0.000000   \n",
       "75%        55.000000       0.000000       0.000000       0.000000   \n",
       "max       115.000000       1.000000       1.000000       4.000000   \n",
       "\n",
       "        sms_received                   wait_time  \n",
       "count  110521.000000                      110521  \n",
       "mean        0.321043  10 days 04:25:27.412889858  \n",
       "std         0.466879  15 days 06:07:25.262183605  \n",
       "min         0.000000             0 days 00:00:00  \n",
       "25%         0.000000             0 days 00:00:00  \n",
       "50%         0.000000             4 days 00:00:00  \n",
       "75%         1.000000            15 days 00:00:00  \n",
       "max         1.000000           179 days 00:00:00  "
      ]
     },
     "execution_count": 20,
     "metadata": {},
     "output_type": "execute_result"
    }
   ],
   "source": [
    "df.describe()"
   ]
  },
  {
   "cell_type": "markdown",
   "metadata": {},
   "source": [
    "<a id='eda'></a>\n",
    "## Exploratory Data Analysis\n",
    "\n",
    "Now that we have cleaned and trimmed our dataset, it is clean and ready for analysis, we proceed to answering all the questions posed one at a time.\n",
    "\n",
    "### Question 1 (Which Gender is most likely going to show up for their appointment and which is not?)"
   ]
  },
  {
   "cell_type": "code",
   "execution_count": 21,
   "metadata": {},
   "outputs": [
    {
     "data": {
      "text/plain": [
       "F    71836\n",
       "M    38685\n",
       "Name: gender, dtype: int64"
      ]
     },
     "execution_count": 21,
     "metadata": {},
     "output_type": "execute_result"
    }
   ],
   "source": [
    "#Check the distribution of male and female in the dataset\n",
    "df['gender'].value_counts()"
   ]
  },
  {
   "cell_type": "code",
   "execution_count": 22,
   "metadata": {},
   "outputs": [
    {
     "data": {
      "image/png": "[encoded data removed]",
      "text/plain": [
       "<Figure size 432x288 with 1 Axes>"
      ]
     },
     "metadata": {
      "needs_background": "light"
     },
     "output_type": "display_data"
    }
   ],
   "source": [
    "#plot the distribution against absence\n",
    "no_show = df.groupby('gender')['absent'].value_counts()\n",
    "Loc = [1,2,3,4]\n",
    "colors = sns.color_palette()[0:2]\n",
    "plt.bar(Loc, no_show, color = colors)\n",
    "plt.xticks([1,2,3,4], ['Female-No',\"Female-Yes\", \"Male-No\", \"Male-Yes\"])\n",
    "plt.title('Total number of present vs absent by Gender', fontsize= 13)\n",
    "plt.ylabel('Number of present vs absent', fontsize= 13)\n",
    "plt.xlabel('Gender', fontsize= 13)\n",
    "sns.set_style(\"darkgrid\")"
   ]
  },
  {
   "cell_type": "markdown",
   "metadata": {},
   "source": [
    "**To derive better insight we would like to look at this data in proportion, since females(65%) appear more than males(35%) in the dataset.** "
   ]
  },
  {
   "cell_type": "code",
   "execution_count": 23,
   "metadata": {},
   "outputs": [],
   "source": [
    "def is_present(data):\n",
    "    '''\n",
    "    This function takes in a dataframe as argument\n",
    "    Checks if a patient is present or absent for their appointment\n",
    "    Then returns the total number of patient present for their appointment in the dataframe\n",
    "    '''\n",
    "    \n",
    "    DP = data[data.absent == 'No']\n",
    "    return DP['appointmentid'].nunique()"
   ]
  },
  {
   "cell_type": "code",
   "execution_count": 24,
   "metadata": {},
   "outputs": [
    {
     "data": {
      "text/plain": [
       "(38685, 71836)"
      ]
     },
     "execution_count": 24,
     "metadata": {},
     "output_type": "execute_result"
    }
   ],
   "source": [
    "#mask data into wait groups\n",
    "df_M = df[df.gender == 'M']\n",
    "df_F = df[df.gender == 'F']\n",
    "\n",
    "#get total number of male and females\n",
    "tot_male = df_M['appointmentid'].nunique()\n",
    "tot_female = df_F['appointmentid'].nunique()\n",
    "tot_male, tot_female"
   ]
  },
  {
   "cell_type": "code",
   "execution_count": 25,
   "metadata": {},
   "outputs": [],
   "source": [
    "#get number of males and females present\n",
    "male_pr = is_present(df_M)\n",
    "female_pr = is_present(df_F)"
   ]
  },
  {
   "cell_type": "code",
   "execution_count": 26,
   "metadata": {},
   "outputs": [],
   "source": [
    "def prop(part, whole):\n",
    "    '''\n",
    "    This function calculates proportion by taking in two arguments\n",
    "    \n",
    "    part(int): a selected section of the whole dataset\n",
    "    whole(int): the total which the part was selected from\n",
    "    '''\n",
    "    return part/whole"
   ]
  },
  {
   "cell_type": "code",
   "execution_count": 27,
   "metadata": {},
   "outputs": [
    {
     "data": {
      "text/plain": [
       "(0.800361897376244, 0.7968845704103792)"
      ]
     },
     "execution_count": 27,
     "metadata": {},
     "output_type": "execute_result"
    }
   ],
   "source": [
    "#calculate the proportion of present in relation to totals\n",
    "prop_m = prop(male_pr, tot_male)\n",
    "\n",
    "prop_f = prop(female_pr,tot_female)\n",
    "(prop_m,prop_f)"
   ]
  },
  {
   "cell_type": "code",
   "execution_count": 28,
   "metadata": {},
   "outputs": [
    {
     "data": {
      "image/png": "[encoded data removed]",
      "text/plain": [
       "<Figure size 432x288 with 1 Axes>"
      ]
     },
     "metadata": {},
     "output_type": "display_data"
    }
   ],
   "source": [
    "#plot proportions on bar chart\n",
    "data = {'Gender proportion': [prop_m, prop_f]}\n",
    "Gender = pd.DataFrame(data,columns=['Gender proportion'], index = ['male', 'female'])\n",
    "\n",
    "Gender.plot.barh(color= colors)\n",
    "\n",
    "plt.title('Proportion present by gender', fontsize= 13)\n",
    "plt.ylabel('Gender', fontsize= 13)\n",
    "plt.xlabel('Proportions present', fontsize= 13)\n",
    "plt.show()"
   ]
  },
  {
   "cell_type": "markdown",
   "metadata": {},
   "source": [
    "**From what we have above, we see both genders show up for their appointments in equal proportion.**"
   ]
  },
  {
   "cell_type": "markdown",
   "metadata": {},
   "source": [
    "### Question 2  (Is age a determining factor to showing up for appointments as planned?)"
   ]
  },
  {
   "cell_type": "code",
   "execution_count": 29,
   "metadata": {},
   "outputs": [
    {
     "data": {
      "image/png": "[encoded data removed]",
      "text/plain": [
       "<Figure size 432x288 with 1 Axes>"
      ]
     },
     "metadata": {},
     "output_type": "display_data"
    }
   ],
   "source": [
    "#check the distribution of age in the dataset using a histogram\n",
    "df['age'].plot(kind='hist', color= colors);\n",
    "plt.xlabel('Age(Years)');"
   ]
  },
  {
   "cell_type": "markdown",
   "metadata": {},
   "source": [
    "**As seen from the histogram above the distribution of age in this dataset is skewed to the right as most of the data points are concentrated on the left, we have few patients who are aged(65+) in this dataset**\n",
    "\n",
    "Moving on we will group the our dataset into age groups according to [statcan](https://www.statcan.gc.ca/en/concepts/definitions/age2)\n",
    "- 0-14 Children\n",
    "- 15-24 Youth\n",
    "- 25-64 Adult\n",
    "- 65+ Aged\n",
    "\n",
    "**And also because this data is not evenly distributed, we will continue to look at proportions**"
   ]
  },
  {
   "cell_type": "code",
   "execution_count": 30,
   "metadata": {},
   "outputs": [
    {
     "data": {
      "text/html": [
       "<div>\n",
       "<style scoped>\n",
       "    .dataframe tbody tr th:only-of-type {\n",
       "        vertical-align: middle;\n",
       "    }\n",
       "\n",
       "    .dataframe tbody tr th {\n",
       "        vertical-align: top;\n",
       "    }\n",
       "\n",
       "    .dataframe thead th {\n",
       "        text-align: right;\n",
       "    }\n",
       "</style>\n",
       "<table border=\"1\" class=\"dataframe\">\n",
       "  <thead>\n",
       "    <tr style=\"text-align: right;\">\n",
       "      <th></th>\n",
       "      <th>patientid</th>\n",
       "      <th>appointmentid</th>\n",
       "      <th>gender</th>\n",
       "      <th>age</th>\n",
       "      <th>neighbourhood</th>\n",
       "      <th>scholarship</th>\n",
       "      <th>diabetes</th>\n",
       "      <th>handicap</th>\n",
       "      <th>sms_received</th>\n",
       "      <th>absent</th>\n",
       "      <th>scheduledate</th>\n",
       "      <th>appointmentdate</th>\n",
       "      <th>wait_time</th>\n",
       "      <th>age_group</th>\n",
       "    </tr>\n",
       "  </thead>\n",
       "  <tbody>\n",
       "    <tr>\n",
       "      <th>0</th>\n",
       "      <td>29872499824296</td>\n",
       "      <td>5642903</td>\n",
       "      <td>F</td>\n",
       "      <td>62</td>\n",
       "      <td>JARDIM DA PENHA</td>\n",
       "      <td>0</td>\n",
       "      <td>0</td>\n",
       "      <td>0</td>\n",
       "      <td>0</td>\n",
       "      <td>No</td>\n",
       "      <td>2016-04-29</td>\n",
       "      <td>2016-04-29</td>\n",
       "      <td>0 days</td>\n",
       "      <td>Adult</td>\n",
       "    </tr>\n",
       "    <tr>\n",
       "      <th>1</th>\n",
       "      <td>558997776694438</td>\n",
       "      <td>5642503</td>\n",
       "      <td>M</td>\n",
       "      <td>56</td>\n",
       "      <td>JARDIM DA PENHA</td>\n",
       "      <td>0</td>\n",
       "      <td>0</td>\n",
       "      <td>0</td>\n",
       "      <td>0</td>\n",
       "      <td>No</td>\n",
       "      <td>2016-04-29</td>\n",
       "      <td>2016-04-29</td>\n",
       "      <td>0 days</td>\n",
       "      <td>Adult</td>\n",
       "    </tr>\n",
       "    <tr>\n",
       "      <th>2</th>\n",
       "      <td>4262962299951</td>\n",
       "      <td>5642549</td>\n",
       "      <td>F</td>\n",
       "      <td>62</td>\n",
       "      <td>MATA DA PRAIA</td>\n",
       "      <td>0</td>\n",
       "      <td>0</td>\n",
       "      <td>0</td>\n",
       "      <td>0</td>\n",
       "      <td>No</td>\n",
       "      <td>2016-04-29</td>\n",
       "      <td>2016-04-29</td>\n",
       "      <td>0 days</td>\n",
       "      <td>Adult</td>\n",
       "    </tr>\n",
       "    <tr>\n",
       "      <th>3</th>\n",
       "      <td>867951213174</td>\n",
       "      <td>5642828</td>\n",
       "      <td>F</td>\n",
       "      <td>8</td>\n",
       "      <td>PONTAL DE CAMBURI</td>\n",
       "      <td>0</td>\n",
       "      <td>0</td>\n",
       "      <td>0</td>\n",
       "      <td>0</td>\n",
       "      <td>No</td>\n",
       "      <td>2016-04-29</td>\n",
       "      <td>2016-04-29</td>\n",
       "      <td>0 days</td>\n",
       "      <td>Children</td>\n",
       "    </tr>\n",
       "    <tr>\n",
       "      <th>4</th>\n",
       "      <td>8841186448183</td>\n",
       "      <td>5642494</td>\n",
       "      <td>F</td>\n",
       "      <td>56</td>\n",
       "      <td>JARDIM DA PENHA</td>\n",
       "      <td>0</td>\n",
       "      <td>1</td>\n",
       "      <td>0</td>\n",
       "      <td>0</td>\n",
       "      <td>No</td>\n",
       "      <td>2016-04-29</td>\n",
       "      <td>2016-04-29</td>\n",
       "      <td>0 days</td>\n",
       "      <td>Adult</td>\n",
       "    </tr>\n",
       "  </tbody>\n",
       "</table>\n",
       "</div>"
      ],
      "text/plain": [
       "         patientid appointmentid gender  age      neighbourhood  scholarship  \\\n",
       "0   29872499824296       5642903      F   62    JARDIM DA PENHA            0   \n",
       "1  558997776694438       5642503      M   56    JARDIM DA PENHA            0   \n",
       "2    4262962299951       5642549      F   62      MATA DA PRAIA            0   \n",
       "3     867951213174       5642828      F    8  PONTAL DE CAMBURI            0   \n",
       "4    8841186448183       5642494      F   56    JARDIM DA PENHA            0   \n",
       "\n",
       "   diabetes  handicap  sms_received absent scheduledate appointmentdate  \\\n",
       "0         0         0             0     No   2016-04-29      2016-04-29   \n",
       "1         0         0             0     No   2016-04-29      2016-04-29   \n",
       "2         0         0             0     No   2016-04-29      2016-04-29   \n",
       "3         0         0             0     No   2016-04-29      2016-04-29   \n",
       "4         1         0             0     No   2016-04-29      2016-04-29   \n",
       "\n",
       "  wait_time age_group  \n",
       "0    0 days     Adult  \n",
       "1    0 days     Adult  \n",
       "2    0 days     Adult  \n",
       "3    0 days  Children  \n",
       "4    0 days     Adult  "
      ]
     },
     "execution_count": 30,
     "metadata": {},
     "output_type": "execute_result"
    }
   ],
   "source": [
    "#divide age groups and create columns\n",
    "df.loc[df['age']<=14, 'age_group'] = 'Children'\n",
    "df.loc[df['age'].between(15,24), 'age_group'] = 'Youth'\n",
    "df.loc[df['age'].between(25,64), 'age_group'] = 'Adult'\n",
    "df.loc[df['age']>=65, 'age_group'] = 'Aged'\n",
    "\n",
    "df.head()"
   ]
  },
  {
   "cell_type": "code",
   "execution_count": 31,
   "metadata": {},
   "outputs": [],
   "source": [
    "#mask data into age groups\n",
    "df_C = df[df.age_group == 'Children']\n",
    "df_Y = df[df.age_group == 'Youth']\n",
    "df_AD = df[df.age_group == 'Adult']\n",
    "df_AG = df[df.age_group == 'Aged']"
   ]
  },
  {
   "cell_type": "code",
   "execution_count": 32,
   "metadata": {},
   "outputs": [
    {
     "data": {
      "text/plain": [
       "(23256, 14008, 58856, 14401)"
      ]
     },
     "execution_count": 32,
     "metadata": {},
     "output_type": "execute_result"
    }
   ],
   "source": [
    "#get total number for each age group\n",
    "tot_C = df_C['appointmentid'].nunique()\n",
    "tot_Y = df_Y['appointmentid'].nunique()\n",
    "tot_AD = df_AD['appointmentid'].nunique()\n",
    "tot_AG = df_AG['appointmentid'].nunique()\n",
    "\n",
    "(tot_C, tot_Y, tot_AD, tot_AG)"
   ]
  },
  {
   "cell_type": "code",
   "execution_count": 33,
   "metadata": {},
   "outputs": [
    {
     "data": {
      "text/plain": [
       "(18331, 10470, 47237, 12169)"
      ]
     },
     "execution_count": 33,
     "metadata": {},
     "output_type": "execute_result"
    }
   ],
   "source": [
    "#get total number present for each age group\n",
    "C_pr = is_present(df_C)\n",
    "Y_pr = is_present(df_Y)\n",
    "AD_pr = is_present(df_AD)\n",
    "AG_pr = is_present(df_AG)\n",
    "\n",
    "(C_pr, Y_pr, AD_pr, AG_pr)"
   ]
  },
  {
   "cell_type": "code",
   "execution_count": 34,
   "metadata": {},
   "outputs": [
    {
     "data": {
      "text/plain": [
       "(0.7882266941864465, 0.747430039977156, 0.8025859725431562, 0.8450107631414485)"
      ]
     },
     "execution_count": 34,
     "metadata": {},
     "output_type": "execute_result"
    }
   ],
   "source": [
    "#calculate the proportions present by age group\n",
    "prop_c = prop(C_pr,tot_C)\n",
    "prop_y = prop(Y_pr,tot_Y)\n",
    "prop_ad = prop(AD_pr,tot_AD)\n",
    "prop_ag = prop(AG_pr,tot_AG)\n",
    "\n",
    "(prop_c, prop_y, prop_ad, prop_ag)"
   ]
  },
  {
   "cell_type": "code",
   "execution_count": 35,
   "metadata": {
    "scrolled": true
   },
   "outputs": [
    {
     "data": {
      "image/png": "[encoded data removed]",
      "text/plain": [
       "<Figure size 432x288 with 1 Axes>"
      ]
     },
     "metadata": {},
     "output_type": "display_data"
    }
   ],
   "source": [
    "#plot the proportion on a bar graph\n",
    "Loc = [1,2,3,4]\n",
    "color = sns.color_palette()[0]\n",
    "plt.bar(Loc, [prop_c, prop_y, prop_ad, prop_ag], color = color)\n",
    "plt.xticks([1,2,3,4], ['Children', 'Youth', 'Adult', 'Aged'])\n",
    "plt.title('Proportion of age groups vs present', fontsize= 13)\n",
    "plt.ylabel('proportions present', fontsize= 13)\n",
    "plt.xlabel('Age Groups', fontsize= 13)\n",
    "sns.set_style(\"darkgrid\")"
   ]
  },
  {
   "cell_type": "markdown",
   "metadata": {},
   "source": [
    "**While there is no significant difference  we can still note that the aged ones turn up a little better than patients in other age groups**"
   ]
  },
  {
   "cell_type": "markdown",
   "metadata": {},
   "source": [
    "### Question 3  (Is wait time a determining factor for showing up to appointments?)"
   ]
  },
  {
   "cell_type": "code",
   "execution_count": 36,
   "metadata": {},
   "outputs": [],
   "source": [
    "#change datatype to enable edit to remove string(\"days\") from wait time\n",
    "df['wait_time'] = df['wait_time'].astype(str)\n",
    "df['wait_time'] = df['wait_time'].str[:-4]"
   ]
  },
  {
   "cell_type": "code",
   "execution_count": 37,
   "metadata": {},
   "outputs": [],
   "source": [
    "#change datatype back to int to enable us segment data\n",
    "df['wait_time'] = df['wait_time'].astype(int)\n",
    "\n",
    "#segment the wait time into months\n",
    "df.loc[df['wait_time']<=60, 'wait_group'] = '0-60days'\n",
    "df.loc[df['wait_time'].between(61,120), 'wait_group'] = '61-120days'\n",
    "df.loc[df['wait_time']>=121, 'wait_group'] = 'Over 120days'"
   ]
  },
  {
   "cell_type": "code",
   "execution_count": 38,
   "metadata": {},
   "outputs": [],
   "source": [
    "#mask data into wait groups\n",
    "df_60 = df[df.wait_group == '0-60days']\n",
    "df_120 = df[df.wait_group == '61-120days']\n",
    "df_O120 = df[df.wait_group == 'Over 120days']"
   ]
  },
  {
   "cell_type": "code",
   "execution_count": 39,
   "metadata": {},
   "outputs": [
    {
     "data": {
      "text/plain": [
       "(108426, 2010, 85)"
      ]
     },
     "execution_count": 39,
     "metadata": {},
     "output_type": "execute_result"
    }
   ],
   "source": [
    "#get total number for each wait groups\n",
    "tot_60 = df_60['appointmentid'].nunique()\n",
    "tot_120 = df_120['appointmentid'].nunique()\n",
    "tot_O120 = df_O120['appointmentid'].nunique()\n",
    "\n",
    "(tot_60, tot_120, tot_O120)"
   ]
  },
  {
   "cell_type": "code",
   "execution_count": 40,
   "metadata": {},
   "outputs": [],
   "source": [
    "#get total number present by wait groups\n",
    "G60_pr = is_present(df_60)\n",
    "G120_pr = is_present(df_120)\n",
    "GO120_pr = is_present(df_O120)"
   ]
  },
  {
   "cell_type": "code",
   "execution_count": 41,
   "metadata": {},
   "outputs": [
    {
     "data": {
      "text/plain": [
       "(0.799697489532031, 0.7179104477611941, 0.6588235294117647)"
      ]
     },
     "execution_count": 41,
     "metadata": {},
     "output_type": "execute_result"
    }
   ],
   "source": [
    "#calculate proportional shows by wait group\n",
    "prop_g60 = prop(G60_pr,tot_60)\n",
    "prop_g120 = prop(G120_pr,tot_120)\n",
    "prop_O120 = prop(GO120_pr,tot_O120)\n",
    "\n",
    "(prop_g60, prop_g120, prop_O120)"
   ]
  },
  {
   "cell_type": "code",
   "execution_count": 42,
   "metadata": {},
   "outputs": [
    {
     "data": {
      "image/png": "[encoded data removed]",
      "text/plain": [
       "<Figure size 432x288 with 1 Axes>"
      ]
     },
     "metadata": {},
     "output_type": "display_data"
    }
   ],
   "source": [
    "#plot the proportion on a bar graph\n",
    "Loc = [1,2,3]\n",
    "plt.bar(Loc, [prop_g60, prop_g120, prop_O120], color = color)\n",
    "plt.xticks([1,2,3], ['0-60days', '61-120days', 'Over 120days'])\n",
    "plt.title('Proportion of wait groups vs present', fontsize= 13)\n",
    "plt.ylabel('proportions present', fontsize= 13)\n",
    "plt.xlabel('Wait Groups', fontsize= 13)\n",
    "sns.set_style(\"darkgrid\")"
   ]
  },
  {
   "cell_type": "markdown",
   "metadata": {},
   "source": [
    "It is evident from the bar graph above that the more the wait time increases the lesser chance it is that the patient shows up for their appointment: \n",
    "- **Approximately 80% of the patients with wait-time 0-60days turn up for their appointments**\n",
    "- **Approximately 72% of the patients with wait-time 61-120days turn up for their appointments**\n",
    "- **And lastly just 66% of the patients with wait-time Over 120 days turn up for their appointments**"
   ]
  },
  {
   "cell_type": "markdown",
   "metadata": {},
   "source": [
    "### Question 4  (Are scholarship beneficiaries likely to default compared to Non beneficiaries?)"
   ]
  },
  {
   "cell_type": "code",
   "execution_count": 43,
   "metadata": {},
   "outputs": [],
   "source": [
    "#mask data into scholarship beneficiaries and non-beneficiaries\n",
    "df_scholarship = df[df.scholarship == 1]\n",
    "df_noscholarship =df[df.scholarship == 0]"
   ]
  },
  {
   "cell_type": "code",
   "execution_count": 44,
   "metadata": {},
   "outputs": [
    {
     "data": {
      "image/png": "[encoded data removed]",
      "text/plain": [
       "<Figure size 576x576 with 1 Axes>"
      ]
     },
     "metadata": {},
     "output_type": "display_data"
    }
   ],
   "source": [
    "#check for the percentage distribution of patients on scholarship\n",
    "df.scholarship.value_counts().plot(kind= 'pie', autopct= '%.0f%%', figsize= (8,8), labels= [\"No_scholarship\", \"Scholarship\"],colors= colors, fontsize= 13)\n",
    "plt.ylabel(\"\")\n",
    "plt.legend()\n",
    "plt.title('Percentage distribution of patients on Scholarship', fontsize= 13);"
   ]
  },
  {
   "cell_type": "markdown",
   "metadata": {},
   "source": [
    "**Just 10% of the patients in this dataset benefitted from the Bolsia familia scholarship scheme, while 90% did not benefit from the health program**"
   ]
  },
  {
   "cell_type": "code",
   "execution_count": 45,
   "metadata": {},
   "outputs": [
    {
     "data": {
      "text/plain": [
       "(10861, 99660)"
      ]
     },
     "execution_count": 45,
     "metadata": {},
     "output_type": "execute_result"
    }
   ],
   "source": [
    "#Get total number of beneficiaries and non-beneficiaries\n",
    "scholarship = df_scholarship['appointmentid'].nunique()\n",
    "no_scholarship = df_noscholarship['appointmentid'].nunique()\n",
    "(scholarship, no_scholarship)"
   ]
  },
  {
   "cell_type": "code",
   "execution_count": 46,
   "metadata": {},
   "outputs": [
    {
     "data": {
      "text/plain": [
       "(8283, 79924)"
      ]
     },
     "execution_count": 46,
     "metadata": {},
     "output_type": "execute_result"
    }
   ],
   "source": [
    "#Get numbers present for each category\n",
    "sch_pr = is_present(df_scholarship)\n",
    "no_sch_pr = is_present(df_noscholarship)\n",
    "\n",
    "(sch_pr, no_sch_pr)"
   ]
  },
  {
   "cell_type": "code",
   "execution_count": 47,
   "metadata": {},
   "outputs": [
    {
     "data": {
      "text/plain": [
       "(0.7626369579228433, 0.8019666867348987)"
      ]
     },
     "execution_count": 47,
     "metadata": {},
     "output_type": "execute_result"
    }
   ],
   "source": [
    "#divide into proportions\n",
    "prop_sch = prop(sch_pr,scholarship)\n",
    "prop_no_sch = prop(no_sch_pr,no_scholarship)\n",
    "\n",
    "(prop_sch, prop_no_sch)"
   ]
  },
  {
   "cell_type": "code",
   "execution_count": 48,
   "metadata": {},
   "outputs": [
    {
     "data": {
      "image/png": "[encoded data removed]",
      "text/plain": [
       "<Figure size 432x288 with 1 Axes>"
      ]
     },
     "metadata": {},
     "output_type": "display_data"
    }
   ],
   "source": [
    "#visualize data in proportions\n",
    "data = {'Scholarship proportion': [prop_sch, prop_no_sch]}\n",
    "Scholars = pd.DataFrame(data,columns=['Scholarship proportion'], index = ['Scholarship', 'No Scholarship'])\n",
    "\n",
    "Scholars.plot.barh(color = color)\n",
    "\n",
    "plt.title('Proportions Present by Scholarship', fontsize= 13)\n",
    "plt.ylabel('Scholarship or No Scholarship', fontsize= 13)\n",
    "plt.xlabel('Proportions present', fontsize= 13)\n",
    "plt.show()"
   ]
  },
  {
   "cell_type": "markdown",
   "metadata": {},
   "source": [
    "**This goes to show patients who are not on scholarship but pay for their health needs are doing slightly better than patients who benefit from the scholarship scheme**\n",
    "-  **76% of scholarship beneficiaries show up to their appointment**\n",
    "-  **While 80% of non-scholarship beneficiaries show up to their appointment**"
   ]
  },
  {
   "cell_type": "markdown",
   "metadata": {},
   "source": [
    "### Question 5 (Are patients who receive reminders showing up than patients who do not?)"
   ]
  },
  {
   "cell_type": "code",
   "execution_count": 49,
   "metadata": {},
   "outputs": [],
   "source": [
    "#mask data into sms received and not received\n",
    "df_sms = df[df.sms_received == 1]\n",
    "df_nosms =df[df.sms_received == 0]"
   ]
  },
  {
   "cell_type": "code",
   "execution_count": 50,
   "metadata": {},
   "outputs": [
    {
     "data": {
      "image/png": "[encoded data removed]",
      "text/plain": [
       "<Figure size 576x576 with 1 Axes>"
      ]
     },
     "metadata": {},
     "output_type": "display_data"
    }
   ],
   "source": [
    "#check for the percentage distribution of patients who received or did not receive an sms\n",
    "df.sms_received.value_counts().plot(kind= 'pie', autopct= '%.0f%%', figsize= (8,8), labels= [\"NO SMS\", \"SMS\"],colors= colors, fontsize= 13)\n",
    "plt.ylabel(\"\")\n",
    "plt.legend()\n",
    "plt.title('Percentage distribution of patients who received or did not receive an sms', fontsize= 13);"
   ]
  },
  {
   "cell_type": "markdown",
   "metadata": {},
   "source": [
    "**We see that only 32% of the patients got reminders while 68% of the patients did not get an sms, we would therefore proceed to anlyze the percentage turnout in each of this category**"
   ]
  },
  {
   "cell_type": "code",
   "execution_count": 51,
   "metadata": {},
   "outputs": [
    {
     "data": {
      "text/plain": [
       "(35482, 75039)"
      ]
     },
     "execution_count": 51,
     "metadata": {},
     "output_type": "execute_result"
    }
   ],
   "source": [
    "#Get total number of sms received and not received\n",
    "sms = df_sms['appointmentid'].nunique()\n",
    "nosms = df_nosms['appointmentid'].nunique()\n",
    "(sms, nosms)"
   ]
  },
  {
   "cell_type": "code",
   "execution_count": 52,
   "metadata": {},
   "outputs": [],
   "source": [
    "#Get numbers present for each sms category\n",
    "sms_pr = is_present(df_sms)\n",
    "nosms_pr = is_present(df_nosms)"
   ]
  },
  {
   "cell_type": "code",
   "execution_count": 53,
   "metadata": {},
   "outputs": [
    {
     "data": {
      "text/plain": [
       "(0.7242545516036301, 0.833020162848652)"
      ]
     },
     "execution_count": 53,
     "metadata": {},
     "output_type": "execute_result"
    }
   ],
   "source": [
    "#divide into proportions\n",
    "prop_sms = prop(sms_pr,sms)\n",
    "prop_nosms = prop(nosms_pr,nosms)\n",
    "\n",
    "(prop_sms, prop_nosms)"
   ]
  },
  {
   "cell_type": "code",
   "execution_count": 54,
   "metadata": {},
   "outputs": [
    {
     "data": {
      "image/png": "[encoded data removed]",
      "text/plain": [
       "<Figure size 432x288 with 1 Axes>"
      ]
     },
     "metadata": {},
     "output_type": "display_data"
    }
   ],
   "source": [
    "#visualize data in proportions\n",
    "data = {'SMS proportion': [prop_sms, prop_nosms]}\n",
    "Scholars = pd.DataFrame(data,columns=['SMS proportion'], index = ['SMS', 'No SMS'])\n",
    "\n",
    "Scholars.plot.barh(color = color)\n",
    "\n",
    "plt.title('Proportions Present by SMS received', fontsize= 13)\n",
    "plt.ylabel('SMS Received or No SMS Received', fontsize= 13)\n",
    "plt.xlabel('Proportions present', fontsize= 13)\n",
    "plt.show()"
   ]
  },
  {
   "cell_type": "markdown",
   "metadata": {},
   "source": [
    "**Suprisingly, patients who do not receive SMS show up better than patients who do with 83 and 72 percent respectively**"
   ]
  },
  {
   "cell_type": "markdown",
   "metadata": {},
   "source": [
    "<a id='conclusions'></a>\n",
    "## Conclusions\n",
    "### Recap on questions asked and Key Insights\n",
    "\n",
    "#### 1. Which Gender is most likely going to show up for their appointment and which is not.\n",
    "- We found that there is no difference in the behavior of both genders, as both genders show up for appointments in equal proportions (80%).\n",
    "\n",
    "#### 2. Is age a determining factor to showing up for appointments as planned?\n",
    "- We found that there was no significant difference in how different age groups showed up for appointments but the **Aged(65+)** slightly performed better (85%) compared to other age groups, this is no suprise as aged patients mostly require medical attention and will likely take their health issues more seriously.\n",
    "\n",
    "#### 3. Is the gap in time between scheduled day/time and appointment day/time a determining factor?\n",
    "- It was evident wait time had slight effect on absence with just 66% of patient's with wait time greater than 120 days showing up to their appointment as scheduled while those with wait time 0-60days performed better with 80% shows and 61-120days with 72% shows respectively.\n",
    "\n",
    "#### 4. Are scholarship beneficiaries likely to default compared to Non beneficiaries?\n",
    "- Though the difference was not significant, non-scholarship beneficiaries who paid for their health needs tend to show up better than those who benefited from the Bolsa familia scheme. \n",
    "\n",
    "#### 5. Are patients who receive reminders showing up than patients who do not?\n",
    "- Sms reminders did not seem to matter in determining how patients show up to their appointments, infact patient's who did not receive sms (83%) showed up to their appointment better than those who did receive sms (72%)\n",
    "\n",
    "\n",
    "### LIMITATIONS\n",
    "1. Most of the variables analyzed were categorical restricting the analysis to bar graphs, histogram and pie charts, as there was sparsely any Quantitative data other than age.\n",
    "2. After checking various documentations online and on [stackoverflow](https://stackoverflow.com/questions/10263942/is-it-guaranteed-that-false-is-0-and-true-is-1) this analysis was carried out with guarantee that 0 == False and 1 == True and this was used all through our analysis."
   ]
  }
 ],
 "metadata": {
  "kernelspec": {
   "display_name": "Python 3 (ipykernel)",
   "language": "python",
   "name": "python3"
  },
  "language_info": {
   "codemirror_mode": {
    "name": "ipython",
    "version": 3
   },
   "file_extension": ".py",
   "mimetype": "text/x-python",
   "name": "python",
   "nbconvert_exporter": "python",
   "pygments_lexer": "ipython3",
   "version": "3.9.12"
  }
 },
 "nbformat": 4,
 "nbformat_minor": 2
}
